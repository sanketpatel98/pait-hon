{
 "cells": [
  {
   "cell_type": "code",
   "execution_count": 44,
   "metadata": {},
   "outputs": [],
   "source": [
    "import pandas as pd\n",
    "import numpy as np\n",
    "import matplotlib.pyplot as plt\n",
    "from sklearn.linear_model import LinearRegression\n",
    "from sklearn.linear_model import LogisticRegression\n",
    "from sklearn.metrics import mean_squared_error"
   ]
  },
  {
   "cell_type": "code",
   "execution_count": 2,
   "metadata": {},
   "outputs": [],
   "source": [
    "data = pd.read_csv('C:\\\\Users\\\\Sanket\\\\Desktop\\\\2010.csv')"
   ]
  },
  {
   "cell_type": "code",
   "execution_count": 3,
   "metadata": {},
   "outputs": [],
   "source": [
    "x1 = data['DISTANCE'].values"
   ]
  },
  {
   "cell_type": "code",
   "execution_count": 38,
   "metadata": {
    "scrolled": true
   },
   "outputs": [
    {
     "name": "stdout",
     "output_type": "stream",
     "text": [
      "40436\n",
      "[[4.95416619e-317]\n",
      " [1.87555865e-315]\n",
      " [2.07071371e-316]\n",
      " ...\n",
      " [2.05614047e-315]\n",
      " [2.05621588e-315]\n",
      " [1.79715402e-315]]\n",
      "[[501.]\n",
      " [507.]\n",
      " [596.]\n",
      " ...\n",
      " [759.]\n",
      " [738.]\n",
      " [288.]]\n"
     ]
    }
   ],
   "source": [
    "j = 0 \n",
    "i = 0\n",
    "ctr = 0\n",
    "while(i<len(x1)):\n",
    "    if(data['CANCELLED'].values[i] == 1):\n",
    "        ctr += 1\n",
    "    i += 1\n",
    "print(ctr)\n",
    "y = np.empty((ctr,1))\n",
    "print(y)\n",
    "for i in range(len(x1)):\n",
    "        if data['CANCELLED'].values[i] == 1:\n",
    "            y[j] = data['DISTANCE'].values[i] \n",
    "            j += 1\n",
    "print(y)"
   ]
  },
  {
   "cell_type": "code",
   "execution_count": 42,
   "metadata": {},
   "outputs": [
    {
     "name": "stdout",
     "output_type": "stream",
     "text": [
      "[0, 100, 200, 300, 400, 500, 600, 700, 800, 900, 1000, 1100, 1200, 1300, 1400, 1500, 1600, 1700, 1800, 1900, 2000, 2100, 2200, 2300, 2400, 2500, 2600, 2700, 2800, 2900, 3000, 3100, 3200, 3300, 3400, 3500, 3600, 3700, 3800, 3900, 4000, 4100, 4200, 4300, 4400, 4500, 4600, 4700, 4800, 4900, 5000]\n"
     ]
    }
   ],
   "source": [
    "bins = []\n",
    "val = 100\n",
    "for i in range(0,5001,100):\n",
    "    bins.append(i)\n",
    "print(bins)"
   ]
  },
  {
   "cell_type": "code",
   "execution_count": 43,
   "metadata": {},
   "outputs": [
    {
     "data": {
      "text/plain": [
       "(array([6.640e+02, 3.793e+03, 6.016e+03, 5.578e+03, 4.118e+03, 4.069e+03,\n",
       "        3.339e+03, 2.743e+03, 1.871e+03, 1.793e+03, 1.309e+03, 8.710e+02,\n",
       "        5.280e+02, 5.340e+02, 5.050e+02, 4.760e+02, 2.060e+02, 2.570e+02,\n",
       "        1.540e+02, 2.070e+02, 1.360e+02, 2.070e+02, 2.430e+02, 1.500e+02,\n",
       "        4.030e+02, 2.040e+02, 2.300e+01, 2.400e+01, 7.000e+00, 2.000e+00,\n",
       "        0.000e+00, 0.000e+00, 0.000e+00, 1.000e+00, 0.000e+00, 0.000e+00,\n",
       "        0.000e+00, 0.000e+00, 0.000e+00, 1.000e+00, 0.000e+00, 0.000e+00,\n",
       "        0.000e+00, 0.000e+00, 0.000e+00, 1.000e+00, 1.000e+00, 0.000e+00,\n",
       "        0.000e+00, 2.000e+00]),\n",
       " array([   0,  100,  200,  300,  400,  500,  600,  700,  800,  900, 1000,\n",
       "        1100, 1200, 1300, 1400, 1500, 1600, 1700, 1800, 1900, 2000, 2100,\n",
       "        2200, 2300, 2400, 2500, 2600, 2700, 2800, 2900, 3000, 3100, 3200,\n",
       "        3300, 3400, 3500, 3600, 3700, 3800, 3900, 4000, 4100, 4200, 4300,\n",
       "        4400, 4500, 4600, 4700, 4800, 4900, 5000]),\n",
       " <a list of 50 Patch objects>)"
      ]
     },
     "execution_count": 43,
     "metadata": {},
     "output_type": "execute_result"
    },
    {
     "data": {
      "image/png": "[encoded data removed]",
      "text/plain": [
       "<Figure size 432x288 with 1 Axes>"
      ]
     },
     "metadata": {
      "needs_background": "light"
     },
     "output_type": "display_data"
    }
   ],
   "source": [
    "plt.xlabel('x-axis')\n",
    "plt.ylabel('y-axis')\n",
    "plt.title('Graph')\n",
    "plt.hist(y,bins,histtype='bar',rwidth=0.8)"
   ]
  },
  {
   "cell_type": "code",
   "execution_count": 48,
   "metadata": {},
   "outputs": [
    {
     "name": "stdout",
     "output_type": "stream",
     "text": [
      "0.961437188565434\n"
     ]
    }
   ],
   "source": [
    "logreg = LogisticRegression()\n",
    "x1 = x1.reshape(-1,1)\n",
    "logreg.fit(x1,data['CANCELLED'].values)\n",
    "print(logreg.score(x1,data['CANCELLED'].values))"
   ]
  },
  {
   "cell_type": "code",
   "execution_count": null,
   "metadata": {},
   "outputs": [],
   "source": []
  }
 ],
 "metadata": {
  "kernelspec": {
   "display_name": "Python 2",
   "language": "python",
   "name": "python2"
  },
  "language_info": {
   "codemirror_mode": {
    "name": "ipython",
    "version": 2
   },
   "file_extension": ".py",
   "mimetype": "text/x-python",
   "name": "python",
   "nbconvert_exporter": "python",
   "pygments_lexer": "ipython2",
   "version": "2.7.16"
  }
 },
 "nbformat": 4,
 "nbformat_minor": 2
}
